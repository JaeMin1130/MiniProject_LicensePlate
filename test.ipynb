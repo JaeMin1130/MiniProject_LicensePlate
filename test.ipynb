{
 "cells": [
  {
   "cell_type": "code",
   "execution_count": 16,
   "metadata": {},
   "outputs": [
    {
     "name": "stdout",
     "output_type": "stream",
     "text": [
      "[1067, 1211, 1221, 1379, 1426, 1446, 1459, 1602, 1892, 1932, 2075, 2207, 2225, 2689, 2799, 2997, 3013, 3028, 3153, 3214, 3275, 3319, 3399, 3667, 3694, 4251, 4383, 4521, 4524, 4562, 4700, 4754, 4984, 5007, 5027, 5044, 5537, 5803, 5942, 6322, 6755, 6806, 6868, 7236, 7252, 7310, 7570, 7822, 7885, 8056, 8521, 8536, 8540, 8609, 8905, 8941, 9030, 9135, 9196, 9256, 9432, 9570, 9669, 9695]\n"
     ]
    }
   ],
   "source": [
    "import os\n",
    "\n",
    "path = \"./license_plate_number\"\n",
    "file_list = os.listdir(path)\n",
    "\n",
    "# Enclose each number with double quotes\n",
    "quoted_file_list = [int(item) for item in file_list]\n",
    "\n",
    "print(quoted_file_list)\n"
   ]
  },
  {
   "cell_type": "code",
   "execution_count": 3,
   "metadata": {},
   "outputs": [
    {
     "name": "stdout",
     "output_type": "stream",
     "text": [
      "[5629, 5381, 8540, 9798, 7570, 7252, 6322, 1459, 5537, 3153, 3502, 1379, 5027, 9816, 8521, 8941, 4251, 5222, 9516, 2799, 9030, 8056, 3694, 7236, 5044, 3667, 3399, 1221, 7117, 1547, 9183, 9570, 1602, 7375, 2165, 1892, 9669, 6755, 3319, 4700, 8536, 3013, 7885, 7482, 9135, 2075, 2207, 7822, 4383]\n"
     ]
    }
   ],
   "source": [
    "arr = ['5629', '5381', '8540', '9798', '7570', '7252', '6322', '1459', '5537', '3153', '3502', '1379', '5027', '9816', '8521', '8941', '4251', '5222', '9516', '2799', '9030', '8056', '3694', '7236', '5044', '3667', '3399', '1221', '7117', '1547', '9183', '9570', '1602', '7375', '2165', '1892', '9669', '6755', '3319', '4700', '8536', '3013', '7885', '7482', '9135', '2075', '2207', '7822', '4383']\n",
    "arr = list(map(lambda i: int(i), arr))\n",
    "print(arr)"
   ]
  }
 ],
 "metadata": {
  "kernelspec": {
   "display_name": "base",
   "language": "python",
   "name": "python3"
  },
  "language_info": {
   "codemirror_mode": {
    "name": "ipython",
    "version": 3
   },
   "file_extension": ".py",
   "mimetype": "text/x-python",
   "name": "python",
   "nbconvert_exporter": "python",
   "pygments_lexer": "ipython3",
   "version": "3.10.11"
  },
  "orig_nbformat": 4
 },
 "nbformat": 4,
 "nbformat_minor": 2
}
